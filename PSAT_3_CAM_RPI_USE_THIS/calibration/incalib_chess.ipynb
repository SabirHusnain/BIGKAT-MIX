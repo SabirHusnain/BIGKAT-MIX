{
 "cells": [
  {
   "attachments": {},
   "cell_type": "markdown",
   "metadata": {
    "id": "od0GYpHVGC5I"
   },
   "source": [
    "# Intrinsic Camera Calibration with OpenCV\n",
    "\n",
    "### Goal\n",
    "\n",
    "The goal of this notebook is to calibrate the intrinsic parameter $K$ of the camera.  Given a number of chessboard images, this notebook first detects the corner positions in each image, and then finds the camera pose of each frame and the camera intrinsic parameters.\n",
    "\n",
    "* Input:  $n$ chessboard images (= the 2D corner position $x$ and the corresponding 3D position $X$ in the world (chessboard) coordinate system)\n",
    "* Output: intrinsic parameter $K$, distortion coefficients $d$, $n$ camera poses $R_i, t_i$ w.r.t. the chessboard\n",
    "\n",
    "To have a better / robust estimation of $K$, the chessboard should be captured as large as possible in the DoF in different poses.\n",
    "\n",
    "\n",
    "Notice:\n",
    "* The chessboard coordinate system serves as the world coordinate system.\n",
    "* Though we obtain $R, t$ as a result, we are not interested in them in this scenario.\n",
    "\n",
    "\n",
    "### Projection model\n",
    "\n",
    "Please check the OpenCV document for the detail. \n",
    "* https://docs.opencv.org/4.0.0/d9/d0c/group__calib3d.html#details\n",
    "\n",
    "In short, a 3D point $X$ in the world coordinate system (WCS) is transformed to the camera coordinate system (CCS) by a roation $R$ and a translation $t$, and then projected to $x$ by $K$:\n",
    "\\begin{equation}\n",
    "\\tilde{x} \\sim K \\begin{bmatrix}\n",
    "R \\: | \\: t\n",
    "\\end{bmatrix}\n",
    "\\tilde{X}.\n",
    "\\end{equation}\n"
   ]
  },
  {
   "attachments": {},
   "cell_type": "markdown",
   "metadata": {
    "id": "915AClofGC5h"
   },
   "source": [
    "## Libraries"
   ]
  },
  {
   "cell_type": "code",
   "execution_count": 1,
   "metadata": {
    "id": "K_XzkEsdGC5k"
   },
   "outputs": [],
   "source": [
    "import sys, os, cv2\n",
    "import numpy as np\n",
    "from glob import glob\n",
    "import matplotlib.pyplot as plt\n",
    "from mpl_toolkits.mplot3d import Axes3D\n",
    "\n",
    "module_path = os.path.abspath(os.path.join('..'))\n",
    "if module_path not in sys.path:\n",
    "    sys.path.append(module_path)\n",
    "\n",
    "from pycalib.plot import plotCamera\n"
   ]
  },
  {
   "attachments": {},
   "cell_type": "markdown",
   "metadata": {
    "id": "F5IEH940GC5u"
   },
   "source": [
    "## Calibration parameters"
   ]
  },
  {
   "cell_type": "code",
   "execution_count": 9,
   "metadata": {
    "id": "2AbTgyyoGC5y"
   },
   "outputs": [],
   "source": [
    "# Chessboard configuration\n",
    "rows = 6   # Number of corners (not cells) in row\n",
    "cols = 8  # Number of corners (not cells) in column\n",
    "size = 35 # Physical size of a cell (the distance between neighrboring corners). Any positive number works.\n",
    "\n",
    "# Input images capturing the chessboard above\n",
    "input_files = 'client/*.tiff'\n",
    "\n",
    "# plotCamera() config\n",
    "plot_mode   = 0    # 0: fixed camera / moving chessboard,  1: fixed chessboard, moving camera\n",
    "plot_range  = 2000 # target volume [-plot_range:plot_range]\n",
    "camera_size = 100  # size of the camera in plot"
   ]
  },
  {
   "attachments": {},
   "cell_type": "markdown",
   "metadata": {
    "id": "WGnou_oEGC51"
   },
   "source": [
    "## 3D positions of the chess corners in WCS"
   ]
  },
  {
   "cell_type": "code",
   "execution_count": 3,
   "metadata": {
    "id": "thbWgz6TGC53",
    "outputId": "677997f2-3c4f-4ab9-df73-d008059c28f0"
   },
   "outputs": [
    {
     "name": "stdout",
     "output_type": "stream",
     "text": [
      "[[  0.   0.   0.]\n",
      " [ 35.   0.   0.]\n",
      " [ 70.   0.   0.]\n",
      " [105.   0.   0.]\n",
      " [140.   0.   0.]\n",
      " [175.   0.   0.]\n",
      " [210.   0.   0.]\n",
      " [245.   0.   0.]\n",
      " [  0.  35.   0.]\n",
      " [ 35.  35.   0.]\n",
      " [ 70.  35.   0.]\n",
      " [105.  35.   0.]\n",
      " [140.  35.   0.]\n",
      " [175.  35.   0.]\n",
      " [210.  35.   0.]\n",
      " [245.  35.   0.]\n",
      " [  0.  70.   0.]\n",
      " [ 35.  70.   0.]\n",
      " [ 70.  70.   0.]\n",
      " [105.  70.   0.]\n",
      " [140.  70.   0.]\n",
      " [175.  70.   0.]\n",
      " [210.  70.   0.]\n",
      " [245.  70.   0.]\n",
      " [  0. 105.   0.]\n",
      " [ 35. 105.   0.]\n",
      " [ 70. 105.   0.]\n",
      " [105. 105.   0.]\n",
      " [140. 105.   0.]\n",
      " [175. 105.   0.]\n",
      " [210. 105.   0.]\n",
      " [245. 105.   0.]\n",
      " [  0. 140.   0.]\n",
      " [ 35. 140.   0.]\n",
      " [ 70. 140.   0.]\n",
      " [105. 140.   0.]\n",
      " [140. 140.   0.]\n",
      " [175. 140.   0.]\n",
      " [210. 140.   0.]\n",
      " [245. 140.   0.]\n",
      " [  0. 175.   0.]\n",
      " [ 35. 175.   0.]\n",
      " [ 70. 175.   0.]\n",
      " [105. 175.   0.]\n",
      " [140. 175.   0.]\n",
      " [175. 175.   0.]\n",
      " [210. 175.   0.]\n",
      " [245. 175.   0.]]\n"
     ]
    }
   ],
   "source": [
    "X_W = np.empty([rows * cols, 3], dtype=np.float32)\n",
    "for i_row in range(0, rows):\n",
    "    for i_col in range(0, cols):\n",
    "        X_W[i_row*cols+i_col] = np.array([size*i_col, size*i_row, 0], dtype=np.float32)\n",
    "print(X_W)"
   ]
  },
  {
   "attachments": {},
   "cell_type": "markdown",
   "metadata": {
    "id": "2e2Pc-u3GC59"
   },
   "source": [
    "## 2D positions of the chess corners"
   ]
  },
  {
   "cell_type": "code",
   "execution_count": 4,
   "metadata": {
    "id": "eSUP8giKGC6C"
   },
   "outputs": [],
   "source": [
    "Xs_W = []\n",
    "xs_I = []\n",
    "\n",
    "for image_path in glob(input_files): # for each chessboard image\n",
    "    image = cv2.imread(image_path, cv2.IMREAD_GRAYSCALE)      # load the image\n",
    "    found, x_I = cv2.findChessboardCorners(image, (cols, rows)) # detech the chess corners\n",
    "\n",
    "    if found: # if found\n",
    "        term = (cv2.TERM_CRITERIA_EPS+cv2.TERM_CRITERIA_COUNT, 30, 0.1)\n",
    "        x_I_sub = cv2.cornerSubPix(image, x_I, (5,5), (-1,-1), term) # refine the corner positions\n",
    "        Xs_W.append(X_W)     # the chess corner in 3D\n",
    "        xs_I.append(x_I_sub) # is projected to this 2D position\n",
    "    else:     # if not found\n",
    "        print(\"Detection failed :\", image_path)\n",
    "        continue "
   ]
  },
  {
   "attachments": {},
   "cell_type": "markdown",
   "metadata": {
    "id": "R771_k8rGC6N"
   },
   "source": [
    "## Calibration"
   ]
  },
  {
   "cell_type": "code",
   "execution_count": 5,
   "metadata": {
    "id": "eWRf4OolGC6Q",
    "outputId": "19ff0b3b-3ea9-46a4-a59d-81667f327910"
   },
   "outputs": [
    {
     "name": "stdout",
     "output_type": "stream",
     "text": [
      "Intrinsic parameter K =  [[990.01548371   0.         641.38853716]\n",
      " [  0.         990.01548371 360.7054774 ]\n",
      " [  0.           0.           1.        ]]\n",
      "Distortion parameters d = (k1, k2, p1, p2, k3) =  [[ 1.93734779e-01 -3.44036882e-01 -5.59117967e-03  2.95390120e-04\n",
      "   8.81462446e-02]]\n"
     ]
    }
   ],
   "source": [
    "rep, K, d, rvec, tvec = cv2.calibrateCamera(Xs_W, xs_I, (image.shape[1], image.shape[0]), None, None, flags=cv2.CALIB_FIX_ASPECT_RATIO)\n",
    "\n",
    "print(\"Intrinsic parameter K = \", K)\n",
    "print(\"Distortion parameters d = (k1, k2, p1, p2, k3) = \", d)"
   ]
  },
  {
   "cell_type": "code",
   "execution_count": null,
   "metadata": {},
   "outputs": [],
   "source": [
    "K=np.array([[990.01548371,0,641.38853716],\n",
    "            [0,990.01548371,360.7054774],\n",
    "            [0,0,1]])\n",
    "d=np.array([[ 1.93734779e-01,-3.44036882e-01,-5.59117967e-03,2.95390120e-04,8.81462446e-02]])"
   ]
  },
  {
   "attachments": {},
   "cell_type": "markdown",
   "metadata": {
    "id": "hlDMo68xGC6S"
   },
   "source": [
    "## 3D Plot"
   ]
  },
  {
   "cell_type": "code",
   "execution_count": 10,
   "metadata": {
    "id": "qYG4qj9FGC6T",
    "outputId": "239dda08-bf05-460d-b889-d9a78cb1ae24"
   },
   "outputs": [
    {
     "name": "stderr",
     "output_type": "stream",
     "text": [
      "<string>:1: UserWarning: Matplotlib is currently using module://matplotlib_inline.backend_inline, which is a non-GUI backend, so cannot show the figure.\n"
     ]
    }
   ],
   "source": [
    "fig_in = plt.figure()\n",
    "ax_in = Axes3D(fig_in, auto_add_to_figure=False)\n",
    "fig_in.add_axes(ax_in)\n",
    "\n",
    "ax_in.set_xlim(-plot_range, plot_range)\n",
    "ax_in.set_ylim(-plot_range, plot_range)\n",
    "ax_in.set_zlim(-plot_range, plot_range)\n",
    "\n",
    "if plot_mode == 0: # fixed camera = plot in CCS\n",
    "    \n",
    "    plotCamera(ax_in, np.eye(3), np.zeros((1,3)), \"b\", camera_size) # camera is at (0,0,0)\n",
    "    \n",
    "    for i_ex in range(len(rvec)):\n",
    "        X_C = np.zeros((X_W.shape))\n",
    "        for i_x in range(X_W.shape[0]):\n",
    "            R_w2c = cv2.Rodrigues(rvec[i_ex])[0] # convert to the rotation matrix\n",
    "            t_w2c = tvec[i_ex].reshape(3)\n",
    "            X_C[i_x,:] = R_w2c.dot(X_W[i_x,:]) + t_w2c # Transform chess corners in WCS to CCS\n",
    "                \n",
    "        ax_in.plot(X_C[:,0], X_C[:,1], X_C[:,2], \".\") # plot chess corners in CCS\n",
    "        \n",
    "elif plot_mode == 1: # fixed chessboard = plot in WCS\n",
    "    \n",
    "    for i_ex in range(len(rvec)):\n",
    "        R_c2w = np.linalg.inv(cv2.Rodrigues(rvec[i_ex])[0]) #　世界座標系におけるカメラの向き\n",
    "        t_c2w = -R_c2w.dot(tvec[i_ex]).reshape((1,3)) # 世界座標系におけるカメラの位置\n",
    "        \n",
    "        plotCamera(ax_in, R_c2w, t_c2w, \"b\", camera_size)\n",
    "        \n",
    "    ax_in.plot(X_W[:,0], X_W[:,1], X_W[:,2], \".\")\n",
    "\n",
    "fig_in.show()"
   ]
  },
  {
   "attachments": {},
   "cell_type": "markdown",
   "metadata": {
    "id": "LrZ7kU7fGC6V"
   },
   "source": [
    "## Exercises\n",
    "\n",
    "1. Draw the detected chess corners over the original images using `cv2.drawChessboardCorners()` for visualization.\n",
    "2. Check the difference with / without the `cv2.CALIB_FIX_ASPECT_RATIO` flag.\n",
    "3. Try with your own camera.\n",
    "4. Try **ChArUco** patterns instead of chessboards.\n",
    "   * [Detection of ChArUco Corners](https://docs.opencv.org/master/df/d4a/tutorial_charuco_detection.html)\n"
   ]
  }
 ],
 "metadata": {
  "colab": {
   "provenance": []
  },
  "kernelspec": {
   "display_name": "Python 3 (ipykernel)",
   "language": "python",
   "name": "python3"
  },
  "language_info": {
   "codemirror_mode": {
    "name": "ipython",
    "version": 3
   },
   "file_extension": ".py",
   "mimetype": "text/x-python",
   "name": "python",
   "nbconvert_exporter": "python",
   "pygments_lexer": "ipython3",
   "version": "3.8.10"
  }
 },
 "nbformat": 4,
 "nbformat_minor": 1
}
